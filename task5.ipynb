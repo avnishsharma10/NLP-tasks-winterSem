{
 "cells": [
  {
   "cell_type": "code",
   "execution_count": 1,
   "metadata": {},
   "outputs": [],
   "source": [
    "import nltk\n",
    "import numpy as np"
   ]
  },
  {
   "cell_type": "code",
   "execution_count": 3,
   "metadata": {},
   "outputs": [],
   "source": [
    "from nltk.stem import SnowballStemmer\n",
    "from nltk.stem import PorterStemmer\n",
    "from nltk.stem import LancasterStemmer\n",
    "from nltk.stem import RegexpStemmer"
   ]
  },
  {
   "cell_type": "code",
   "execution_count": 4,
   "metadata": {},
   "outputs": [
    {
     "data": {
      "text/plain": [
       "16"
      ]
     },
     "execution_count": 4,
     "metadata": {},
     "output_type": "execute_result"
    }
   ],
   "source": [
    "\n",
    "len(SnowballStemmer.languages)"
   ]
  },
  {
   "cell_type": "code",
   "execution_count": 6,
   "metadata": {},
   "outputs": [],
   "source": [
    "sb = SnowballStemmer('english')\n",
    "ps = PorterStemmer()\n",
    "ls = LancasterStemmer()\n",
    "rs = RegexpStemmer('^un|^re|ing$|s$|ed$|er$',min=4)"
   ]
  },
  {
   "cell_type": "code",
   "execution_count": 8,
   "metadata": {},
   "outputs": [
    {
     "name": "stdout",
     "output_type": "stream",
     "text": [
      "unpreced\n"
     ]
    }
   ],
   "source": [
    "print(sb.stem('unprecedented'))"
   ]
  },
  {
   "cell_type": "code",
   "execution_count": 9,
   "metadata": {},
   "outputs": [
    {
     "name": "stdout",
     "output_type": "stream",
     "text": [
      "unpreced\n"
     ]
    }
   ],
   "source": [
    "print(ps.stem('unprecedented'))"
   ]
  },
  {
   "cell_type": "code",
   "execution_count": 10,
   "metadata": {},
   "outputs": [
    {
     "name": "stdout",
     "output_type": "stream",
     "text": [
      "unprec\n"
     ]
    }
   ],
   "source": [
    "print(ls.stem('unprecedented'))"
   ]
  },
  {
   "cell_type": "code",
   "execution_count": 11,
   "metadata": {},
   "outputs": [
    {
     "name": "stdout",
     "output_type": "stream",
     "text": [
      "precedent\n"
     ]
    }
   ],
   "source": [
    "print(rs.stem('unprecedented'))"
   ]
  },
  {
   "cell_type": "code",
   "execution_count": 12,
   "metadata": {},
   "outputs": [],
   "source": [
    "from nltk.stem import WordNetLemmatizer\n",
    "lemmatizer = WordNetLemmatizer()"
   ]
  },
  {
   "cell_type": "code",
   "execution_count": 14,
   "metadata": {},
   "outputs": [
    {
     "name": "stdout",
     "output_type": "stream",
     "text": [
      "foot\n"
     ]
    }
   ],
   "source": [
    "print(lemmatizer.lemmatize(\"feet\"))"
   ]
  },
  {
   "cell_type": "code",
   "execution_count": 15,
   "metadata": {},
   "outputs": [],
   "source": [
    "text=\"\"\"Christopher Hemsworth[1] (born 11 August 1983)[2] is an Australian actor. He rose to prominence playing Kim Hyde in the Australian TV series Home and Away (2004–07) before beginning a film career in Hollywood by taking on parts in the science fiction film Star Trek (2009) and the thriller A Perfect Getaway (2009).\"\"\""
   ]
  },
  {
   "cell_type": "code",
   "execution_count": 25,
   "metadata": {},
   "outputs": [
    {
     "name": "stdout",
     "output_type": "stream",
     "text": [
      "christoph hemsworth[1] (born 11 august 1983)[2] is an australian actor. He rose to promin play kim hyde in the australian TV seri home and away (2004–07) befor begin a film career in hollywood by take on part in the scienc fiction film star trek (2009) and the thriller A perfect getaway (2009).\n"
     ]
    }
   ],
   "source": [
    "from nltk.stem import PorterStemmer\n",
    "stemmer = PorterStemmer()\n",
    "text = [stemmer.stem(token) for token in text.split(\" \")]\n",
    "print(\" \".join(text))"
   ]
  },
  {
   "cell_type": "code",
   "execution_count": 26,
   "metadata": {
    "scrolled": true
   },
   "outputs": [
    {
     "name": "stdout",
     "output_type": "stream",
     "text": [
      "christoph\n",
      "hemsworth[1]\n",
      "(born\n",
      "11\n",
      "august\n",
      "1983)[2]\n",
      "is\n",
      "an\n",
      "australian\n",
      "actor.\n",
      "He\n",
      "rose\n",
      "to\n",
      "promin\n",
      "play\n",
      "kim\n",
      "hyde\n",
      "in\n",
      "the\n",
      "australian\n",
      "TV\n",
      "seri\n",
      "home\n",
      "and\n",
      "away\n",
      "(2004–07)\n",
      "befor\n",
      "begin\n",
      "a\n",
      "film\n",
      "career\n",
      "in\n",
      "hollywood\n",
      "by\n",
      "take\n",
      "on\n",
      "part\n",
      "in\n",
      "the\n",
      "scienc\n",
      "fiction\n",
      "film\n",
      "star\n",
      "trek\n",
      "(2009)\n",
      "and\n",
      "the\n",
      "thriller\n",
      "A\n",
      "perfect\n",
      "getaway\n",
      "(2009).\n"
     ]
    }
   ],
   "source": [
    "for i in text:\n",
    "  print(lemmatizer.lemmatize(i))"
   ]
  },
  {
   "cell_type": "code",
   "execution_count": 27,
   "metadata": {},
   "outputs": [],
   "source": [
    "from sklearn.feature_extraction.text import CountVectorizer"
   ]
  },
  {
   "cell_type": "code",
   "execution_count": 28,
   "metadata": {},
   "outputs": [],
   "source": [
    "vectorizer = CountVectorizer()"
   ]
  },
  {
   "cell_type": "code",
   "execution_count": 29,
   "metadata": {},
   "outputs": [
    {
     "name": "stdout",
     "output_type": "stream",
     "text": [
      "['07', '11', '1983', '2004', '2009', 'actor', 'an', 'and', 'august', 'australian', 'away', 'befor', 'begin', 'born', 'by', 'career', 'christoph', 'fiction', 'film', 'getaway', 'he', 'hemsworth', 'hollywood', 'home', 'hyde', 'in', 'is', 'kim', 'on', 'part', 'perfect', 'play', 'promin', 'rose', 'scienc', 'seri', 'star', 'take', 'the', 'thriller', 'to', 'trek', 'tv']\n"
     ]
    }
   ],
   "source": [
    "x = vectorizer.fit_transform(text)\n",
    "print(vectorizer.get_feature_names())\n"
   ]
  },
  {
   "cell_type": "code",
   "execution_count": null,
   "metadata": {},
   "outputs": [],
   "source": []
  },
  {
   "cell_type": "code",
   "execution_count": null,
   "metadata": {},
   "outputs": [],
   "source": []
  }
 ],
 "metadata": {
  "kernelspec": {
   "display_name": "Python 3",
   "language": "python",
   "name": "python3"
  },
  "language_info": {
   "codemirror_mode": {
    "name": "ipython",
    "version": 3
   },
   "file_extension": ".py",
   "mimetype": "text/x-python",
   "name": "python",
   "nbconvert_exporter": "python",
   "pygments_lexer": "ipython3",
   "version": "3.7.4"
  }
 },
 "nbformat": 4,
 "nbformat_minor": 2
}

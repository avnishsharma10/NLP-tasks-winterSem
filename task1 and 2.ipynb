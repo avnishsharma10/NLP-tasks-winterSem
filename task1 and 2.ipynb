{
 "cells": [
  {
   "cell_type": "code",
   "execution_count": 1,
   "metadata": {},
   "outputs": [],
   "source": [
    "s=\"Shakespeare gave the world best of theatrics\""
   ]
  },
  {
   "cell_type": "code",
   "execution_count": 2,
   "metadata": {},
   "outputs": [
    {
     "name": "stdout",
     "output_type": "stream",
     "text": [
      "Shakespeare gave the world best of theatrics\n"
     ]
    }
   ],
   "source": [
    "print(s)"
   ]
  },
  {
   "cell_type": "code",
   "execution_count": 3,
   "metadata": {},
   "outputs": [
    {
     "data": {
      "text/plain": [
       "44"
      ]
     },
     "execution_count": 3,
     "metadata": {},
     "output_type": "execute_result"
    }
   ],
   "source": [
    "len(s)"
   ]
  },
  {
   "cell_type": "code",
   "execution_count": 4,
   "metadata": {},
   "outputs": [],
   "source": [
    "s='''William Shakespeare (bapt. 26 April 1564 – 23 April 1616)\n",
    "[a] was an English poet, playwright, and actor, widely regarded as the greatest writer in the English language and the world's greatest dramatist.\n",
    "[2][3][4] He is often called England's national poet and the \"Bard of Avon\" (or simply \"the Bard\").\n",
    "[5][b] His extant works, including collaborations, consist of some 39 plays,[c] 154 sonnets, two long narrative poems, and a few other verses, some of uncertain authorship. \n",
    "His plays have been translated into every major living language and are performed more often than those of any other playwright.[7]'''"
   ]
  },
  {
   "cell_type": "code",
   "execution_count": 5,
   "metadata": {
    "scrolled": true
   },
   "outputs": [
    {
     "data": {
      "text/plain": [
       "'William Shakespeare (bapt. 26 April 1564 – 23 April 1616)\\n[a] was an English poet, playwright, and actor, widely regarded as the greatest writer in the English language and the world\\'s greatest dramatist.\\n[2][3][4] He is often called England\\'s national poet and the \"Bard of Avon\" (or simply \"the Bard\").\\n[5][b] His extant works, including collaborations, consist of some 39 plays,[c] 154 sonnets, two long narrative poems, and a few other verses, some of uncertain authorship. \\nHis plays have been translated into every major living language and are performed more often than those of any other playwright.[7]'"
      ]
     },
     "execution_count": 5,
     "metadata": {},
     "output_type": "execute_result"
    }
   ],
   "source": [
    "s"
   ]
  },
  {
   "cell_type": "code",
   "execution_count": 6,
   "metadata": {},
   "outputs": [],
   "source": [
    "l=s.split(\" \")"
   ]
  },
  {
   "cell_type": "code",
   "execution_count": 7,
   "metadata": {},
   "outputs": [],
   "source": [
    "hindi=\"माननीय अध्यक्ष महोदय, आज मैं आपके बीच देश के लिए बहुत ही महत्वपूर्ण और ऐतिहासिक विषय पर जानकारी देने के लिए विशेष तौर पर उपस्थित हूं। ये विषय करोड़ों देशवासियों की तरह ही मेरे ह्रदय के भी करीब है और इस पर बात करना मैं अपना बहुत बड़ा सौभाग्य समझता हूं। ये विषय श्रीराम जन्मभूमि से जुड़ा हुआ है। ये विषय है- अयोध्या में श्रीराम जन्मस्थली पर भगवान श्रीराम के भव्य मंदिर के निर्माण से जुड़ा हुआ है। माननीय अध्यक्ष महोदय, 9 नवंबर 2019 को मैं करतारपुर साहिब कॉरिडोर के लोकार्पण हेतु पंजाब में था, गुरूनानक देव जी का 550वां प्रकाश पर्व था, बहुत ही पवित्र वातावरण था उसी दिव्य वातावरण में मुझे देश की सर्वोच्च अदालत द्वारा रामजन्म भूमि विषय पर दिए गए ऐतिहासिक फैसले के बारे में पता चला था। इस फैसले में माननीय सर्वोच्च न्यायालय ने कहा था कि श्रीराम जन्मभूमि के विवादित स्थल के भीतरी और बाहरी आंगन पर रामलला विराजमान का ही स्वामित्व है। माननीय उच्चतम न्यायालय ने अपने आदेश में ये भी कहा था कि केंद्र और राज्य सरकार आपस में परामर्श करके सुन्नी सेन्ट्रल वक्फ बोर्ड को 5 एकड़ ज़मीन आबंटित करें।\""
   ]
  },
  {
   "cell_type": "code",
   "execution_count": 8,
   "metadata": {},
   "outputs": [
    {
     "data": {
      "text/plain": [
       "'माननीय अध्यक्ष महोदय, आज मैं आपके बीच देश के लिए बहुत ही महत्वपूर्ण और ऐतिहासिक विषय पर जानकारी देने के लिए विशेष तौर पर उपस्थित हूं। ये विषय करोड़ों देशवासियों की तरह ही मेरे ह्रदय के भी करीब है और इस पर बात करना मैं अपना बहुत बड़ा सौभाग्य समझता हूं। ये विषय श्रीराम जन्मभूमि से जुड़ा हुआ है। ये विषय है- अयोध्या में श्रीराम जन्मस्थली पर भगवान श्रीराम के भव्य मंदिर के निर्माण से जुड़ा हुआ है। माननीय अध्यक्ष महोदय, 9 नवंबर 2019 को मैं करतारपुर साहिब कॉरिडोर के लोकार्पण हेतु पंजाब में था, गुरूनानक देव जी का 550वां प्रकाश पर्व था, बहुत ही पवित्र वातावरण था उसी दिव्य वातावरण में मुझे देश की सर्वोच्च अदालत द्वारा रामजन्म भूमि विषय पर दिए गए ऐतिहासिक फैसले के बारे में पता चला था। इस फैसले में माननीय सर्वोच्च न्यायालय ने कहा था कि श्रीराम जन्मभूमि के विवादित स्थल के भीतरी और बाहरी आंगन पर रामलला विराजमान का ही स्वामित्व है। माननीय उच्चतम न्यायालय ने अपने आदेश में ये भी कहा था कि केंद्र और राज्य सरकार आपस में परामर्श करके सुन्नी सेन्ट्रल वक्फ बोर्ड को 5 एकड़ ज़मीन आबंटित करें।'"
      ]
     },
     "execution_count": 8,
     "metadata": {},
     "output_type": "execute_result"
    }
   ],
   "source": [
    "hindi\n"
   ]
  },
  {
   "cell_type": "code",
   "execution_count": null,
   "metadata": {},
   "outputs": [],
   "source": []
  }
 ],
 "metadata": {
  "kernelspec": {
   "display_name": "Python 3",
   "language": "python",
   "name": "python3"
  },
  "language_info": {
   "codemirror_mode": {
    "name": "ipython",
    "version": 3
   },
   "file_extension": ".py",
   "mimetype": "text/x-python",
   "name": "python",
   "nbconvert_exporter": "python",
   "pygments_lexer": "ipython3",
   "version": "3.7.4"
  }
 },
 "nbformat": 4,
 "nbformat_minor": 2
}
